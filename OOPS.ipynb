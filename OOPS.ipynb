{
  "nbformat": 4,
  "nbformat_minor": 0,
  "metadata": {
    "colab": {
      "provenance": []
    },
    "kernelspec": {
      "name": "python3",
      "display_name": "Python 3"
    },
    "language_info": {
      "name": "python"
    }
  },
  "cells": [
    {
      "cell_type": "code",
      "execution_count": 1,
      "metadata": {
        "colab": {
          "base_uri": "https://localhost:8080/"
        },
        "id": "yFhFf9Pr-JSp",
        "outputId": "39d38f16-0a92-46eb-9e03-41477ac72fa8"
      },
      "outputs": [
        {
          "output_type": "stream",
          "name": "stdout",
          "text": [
            "Area: 15\n",
            "Perimeter: 16\n"
          ]
        }
      ],
      "source": [
        "class Rectangle:\n",
        "    def __init__(self, length, width):\n",
        "        self.length = length\n",
        "        self.width = width\n",
        "\n",
        "    def area(self):\n",
        "        return self.length * self.width\n",
        "\n",
        "    def perimeter(self):\n",
        "        return 2 * (self.length + self.width)\n",
        "\n",
        "rectangle = Rectangle(5, 3)\n",
        "print(f\"Area: {rectangle.area()}\")\n",
        "print(f\"Perimeter: {rectangle.perimeter()}\")"
      ]
    },
    {
      "cell_type": "code",
      "source": [
        "import math\n",
        "\n",
        "class Circle:\n",
        "    def __init__(self, radius):\n",
        "        self.radius = radius\n",
        "\n",
        "    def area(self):\n",
        "        return math.pi * self.radius ** 2\n",
        "\n",
        "    def circumference(self):\n",
        "        return 2 * math.pi * self.radius\n",
        "\n",
        "circle = Circle(5)\n",
        "print(f\"Area: {circle.area()}\")\n",
        "print(f\"Circumference: {circle.circumference()}\")"
      ],
      "metadata": {
        "colab": {
          "base_uri": "https://localhost:8080/"
        },
        "id": "eLDLBpA1-dRB",
        "outputId": "64d9e357-fdea-46dc-88cd-6fa17e07694a"
      },
      "execution_count": 2,
      "outputs": [
        {
          "output_type": "stream",
          "name": "stdout",
          "text": [
            "Area: 78.53981633974483\n",
            "Circumference: 31.41592653589793\n"
          ]
        }
      ]
    },
    {
      "cell_type": "code",
      "source": [
        "class Employee:\n",
        "    def __init__(self, name, age, salary):\n",
        "        self.name = name\n",
        "        self.age = age\n",
        "        self.salary = salary\n",
        "\n",
        "    def increase_salary(self, percentage):\n",
        "        self.salary *= (1 + percentage / 100)\n",
        "\n",
        "    def __str__(self):\n",
        "        return f\"Name: {self.name}, Age: {self.age}, Salary: {self.salary}\"\n",
        "\n",
        "employee = Employee(\"Alice\", 30, 50000)\n",
        "print(\"Before salary increase:\")\n",
        "print(employee)\n",
        "\n",
        "employee.increase_salary(10)\n",
        "print(\"\\nAfter 10% salary increase:\")\n",
        "print(employee)"
      ],
      "metadata": {
        "colab": {
          "base_uri": "https://localhost:8080/"
        },
        "id": "suCaNTnl-xgL",
        "outputId": "3733233f-c971-44ad-98a9-cab0c3ec9b95"
      },
      "execution_count": 3,
      "outputs": [
        {
          "output_type": "stream",
          "name": "stdout",
          "text": [
            "Before salary increase:\n",
            "Name: Alice, Age: 30, Salary: 50000\n",
            "\n",
            "After 10% salary increase:\n",
            "Name: Alice, Age: 30, Salary: 55000.00000000001\n"
          ]
        }
      ]
    },
    {
      "cell_type": "code",
      "source": [
        "class Student:\n",
        "    def __init__(self, name, age, grades):\n",
        "        self.name = name\n",
        "        self.age = age\n",
        "        self.grades = grades\n",
        "\n",
        "    def average_grade(self):\n",
        "        if not self.grades:\n",
        "            return 0\n",
        "        return sum(self.grades) / len(self.grades)\n",
        "\n",
        "    def has_passed(self):\n",
        "        return self.average_grade() >= 60\n",
        "\n",
        "    def __str__(self):\n",
        "        return f\"Name: {self.name}, Age: {self.age}, Grades: {self.grades}\"\n",
        "\n",
        "student1 = Student(\"Alice\", 20, [70, 80, 90])\n",
        "student2 = Student(\"Bob\", 21, [50, 55, 60])\n",
        "student3 = Student(\"Charlie\", 22, [])\n",
        "\n",
        "students = [student1, student2, student3]\n",
        "\n",
        "for student in students:\n",
        "    print(student)\n",
        "    print(f\"Average grade: {student.average_grade()}\")\n",
        "    print(f\"Pass status: {'Passed' if student.has_passed() else 'Failed'}\\n\")"
      ],
      "metadata": {
        "colab": {
          "base_uri": "https://localhost:8080/"
        },
        "id": "1HdWOW25_HMF",
        "outputId": "53458191-5a56-4032-d339-9b5ce55f2df6"
      },
      "execution_count": 4,
      "outputs": [
        {
          "output_type": "stream",
          "name": "stdout",
          "text": [
            "Name: Alice, Age: 20, Grades: [70, 80, 90]\n",
            "Average grade: 80.0\n",
            "Pass status: Passed\n",
            "\n",
            "Name: Bob, Age: 21, Grades: [50, 55, 60]\n",
            "Average grade: 55.0\n",
            "Pass status: Failed\n",
            "\n",
            "Name: Charlie, Age: 22, Grades: []\n",
            "Average grade: 0\n",
            "Pass status: Failed\n",
            "\n"
          ]
        }
      ]
    },
    {
      "cell_type": "code",
      "source": [
        "class Person:\n",
        "    def __init__(self, name, address):\n",
        "        self.name = name\n",
        "        self.address = address\n",
        "\n",
        "class Student(Person):\n",
        "    def __init__(self, name, address, student_id):\n",
        "        super().__init__(name, address)\n",
        "        self.student_id = student_id\n",
        "\n",
        "    def display_info(self):\n",
        "        print(f\"Name: {self.name}\")\n",
        "        print(f\"Address: {self.address}\")\n",
        "        print(f\"Student ID: {self.student_id}\")\n",
        "\n",
        "student = Student(\"Alice\", \"123 Main St\", \"001\")\n",
        "student.display_info()"
      ],
      "metadata": {
        "colab": {
          "base_uri": "https://localhost:8080/"
        },
        "id": "c9TmNK1o_j2V",
        "outputId": "86d3a932-e93c-4f19-f5f1-554a9f804f01"
      },
      "execution_count": 5,
      "outputs": [
        {
          "output_type": "stream",
          "name": "stdout",
          "text": [
            "Name: Alice\n",
            "Address: 123 Main St\n",
            "Student ID: 001\n"
          ]
        }
      ]
    }
  ]
}